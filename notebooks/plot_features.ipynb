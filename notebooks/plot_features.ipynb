{
 "cells": [
  {
   "cell_type": "code",
   "execution_count": null,
   "metadata": {},
   "outputs": [],
   "source": [
    "import pandas as pd\n",
    "import numpy as np\n",
    "import matplotlib.pyplot as plt\n",
    "from glob import glob\n",
    "import holoviews as hv\n",
    "from holoviews import opts\n",
    "from inter_view.color import clipped_plasma_r\n",
    "from lstree.lineage.plot import tree_to_dataframe, plot_tree\n",
    "\n",
    "backend = 'bokeh'\n",
    "# backend = 'matplotlib'\n",
    "hv.extension(backend, logo=False)\n",
    "\n",
    "\n",
    "if backend == 'bokeh':\n",
    "    opts.defaults(\n",
    "        opts.Overlay('tree', yaxis=None, width=800, height=600, show_title=False),\n",
    "        opts.Points('tree', cmap=clipped_plasma_r),\n",
    "        opts.Segments('tree', cmap=clipped_plasma_r))\n",
    "else:\n",
    "    opts.defaults(\n",
    "        opts.Overlay('tree', show_frame=False, yaxis=None, show_title=False, fig_size=400, aspect=1.5),\n",
    "        opts.Points('tree', cmap=clipped_plasma_r),\n",
    "        opts.Segments('tree', linewidth=1, color='black', cmap=clipped_plasma_r))"
   ]
  },
  {
   "cell_type": "code",
   "execution_count": null,
   "metadata": {
    "scrolled": false
   },
   "outputs": [],
   "source": [
    "paths = sorted(glob('../data/*-*/agg_features.h5'))\n",
    "\n",
    "for path in paths:\n",
    "    print(path)\n",
    "    \n",
    "    try:\n",
    "        df_organoid = pd.read_hdf(path, 'organoid')\n",
    "        df_organoid[['epithelium_volume', 'lumen_volume', 'organoid_volume']].plot()\n",
    "        plt.show()\n",
    "    except Exception as e:\n",
    "        print(e)\n",
    "    \n",
    "    try:\n",
    "        dfn = pd.read_hdf(path, 'nodes')\n",
    "        dfe = pd.read_hdf(path, 'edges')\n",
    "        hv_tree = plot_tree(dfn, dfe, node_color='nuclei_volume', backend=backend)\n",
    "        display(hv_tree)\n",
    "    except Exception as e:\n",
    "        pass\n",
    "    \n",
    "    print('\\n\\n')"
   ]
  }
 ],
 "metadata": {
  "kernelspec": {
   "display_name": "Python [conda env:scratch]",
   "language": "python",
   "name": "conda-env-scratch-py"
  },
  "language_info": {
   "codemirror_mode": {
    "name": "ipython",
    "version": 3
   },
   "file_extension": ".py",
   "mimetype": "text/x-python",
   "name": "python",
   "nbconvert_exporter": "python",
   "pygments_lexer": "ipython3",
   "version": "3.7.9"
  }
 },
 "nbformat": 4,
 "nbformat_minor": 4
}
