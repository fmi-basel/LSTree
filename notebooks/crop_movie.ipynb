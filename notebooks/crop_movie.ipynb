{
 "cells": [
  {
   "cell_type": "markdown",
   "metadata": {},
   "source": [
    "# Croping notebook\n",
    "\n",
    "This is an example notebook for cropping long light-sheet movies based on the sample of interest."
   ]
  },
  {
   "cell_type": "markdown",
   "metadata": {},
   "source": [
    "## Importing and defining system memory\n",
    "\n",
    "Important to note that the AVAILABLE_SYSTEM_MEMORY should ideally be below 80% of the available RAM to prevent the process from being killed by the operating system."
   ]
  },
  {
   "cell_type": "code",
   "execution_count": null,
   "metadata": {},
   "outputs": [],
   "source": [
    "import luigi\n",
    "import pandas as pd\n",
    "import multiprocessing\n",
    "from lstree.cropping.candidates import BatchedFindCropCandidateTask\n",
    "from lstree.cropping.crop_gui import CropReviewer\n",
    "from lstree.cropping.crop import CropMovieTask\n",
    "import holoviews as hv\n",
    "from holoviews import opts\n",
    "\n",
    "opts.defaults(opts.Rectangles(selection_fill_color=None),\n",
    "              opts.Layout(sizing_mode='fixed'))\n",
    "\n",
    "\n",
    "AVAILABLE_SYSTEM_MEMORY = 64000 # in MB \n",
    "\n",
    "luigi.configuration.get_config().set('resources', 'memory', str(AVAILABLE_SYSTEM_MEMORY))\n",
    "luigi.configuration.get_config().set('resources', 'pool_workers', str(multiprocessing.cpu_count()))\n",
    "luigi.configuration.get_config().set('core', 'workers', str(multiprocessing.cpu_count()))\n",
    "\n",
    "\n",
    "hv.extension('bokeh', width=100)"
   ]
  },
  {
   "cell_type": "markdown",
   "metadata": {},
   "source": [
    "# Define parameters"
   ]
  },
  {
   "cell_type": "code",
   "execution_count": null,
   "metadata": {},
   "outputs": [],
   "source": [
    "spacing = (2, 0.173, 0.173) # voxel size\n",
    "ref_channel = 'Channel1' # channel used to find objects\n",
    "\n",
    "max_clip_factor = 2 # maximum intensity clipping at: factor x mean(image)\n",
    "sigma = 2 # blurring size prior thresholding\n",
    "threshold_method = 'otsu' # thresholding method. one of ['otsu', 'li', 'yen', 'triangle', 'minimum'] or a callable\n",
    "\n",
    "# Use larger step to test  segmentation parameters (e.g. step=50)\n",
    "# use all timepoints for actual cropping step=1\n",
    "timepoint_step = 1\n",
    "\n",
    "input_dir = 'PATH_TO_RAW_IMAGES'\n",
    "output_dir = 'CROP_OUTPUT_FOLDER'\n",
    "\n",
    "file_pattern = '{channel}-T{time:04d}.{ext}' \n",
    "index = ['channel', 'time']"
   ]
  },
  {
   "cell_type": "markdown",
   "metadata": {},
   "source": [
    "# Find objects in stack\n",
    "existing files are skipped"
   ]
  },
  {
   "cell_type": "code",
   "execution_count": null,
   "metadata": {
    "scrolled": true
   },
   "outputs": [],
   "source": [
    "batch_crop_task = BatchedFindCropCandidateTask(datadir=input_dir,\n",
    "                                               out_directory=output_dir,\n",
    "                                               pattern=file_pattern,\n",
    "                                               index=index,\n",
    "                                               timepoint_step=timepoint_step,\n",
    "                                               ref_channel=ref_channel,\n",
    "                                               spacing=spacing,\n",
    "                                               sigma=sigma,\n",
    "                                               max_clip_factor=max_clip_factor,\n",
    "                                               threshold_method=threshold_method,\n",
    "                                               memory=15000) # ~memory (MB) required to process a single stack\n",
    "\n",
    "luigi.build([batch_crop_task], local_scheduler=True, log_level='INFO')"
   ]
  },
  {
   "cell_type": "markdown",
   "metadata": {},
   "source": [
    "# Review cropping, starting from the last timepoint\n",
    "\n",
    "- **white** detected objects\n",
    "- **orange** selected object\n",
    "- **red** movie cropping box, centered on current object  \n",
    "  \n",
    "  \n",
    "1. click on the object you want to crop, backtracking will update automatically\n",
    "1. In case of error, click on a different object to update the backtracking from the current timepoint\n",
    "1. Occasionally, If there is no suitable object detected, the current box can be edited manually with the sliders\n",
    "1. If that happens often, try to rerun the detection with different segmentation parameters\n",
    "1. Save the list of bounding boxes as \"object 0\"\n",
    "1. restart by selecting the next object from the last frame\n"
   ]
  },
  {
   "cell_type": "code",
   "execution_count": null,
   "metadata": {
    "scrolled": false
   },
   "outputs": [],
   "source": [
    "df = pd.read_hdf(batch_crop_task.output().path, key='dc')\n",
    "df_mips = pd.read_hdf(batch_crop_task.output().path, key='MIPs')\n",
    "dfb = pd.read_hdf(batch_crop_task.output().path, key='boxes')\n",
    "    \n",
    "cr = CropReviewer(spacing=spacing,\n",
    "                  df_mips=df_mips,\n",
    "                  dfb=dfb,\n",
    "                  outdir=output_dir,\n",
    "                  frame_width=600)\n",
    "\n",
    "cr.panel().servable()"
   ]
  },
  {
   "cell_type": "markdown",
   "metadata": {},
   "source": [
    "# Crop images"
   ]
  },
  {
   "cell_type": "code",
   "execution_count": null,
   "metadata": {
    "scrolled": false
   },
   "outputs": [],
   "source": [
    "crop_movie_task = CropMovieTask(out_directory=output_dir,\n",
    "                                data_collection=batch_crop_task.output().path,\n",
    "                                n_threads=multiprocessing.cpu_count(),\n",
    "                                frame_memory=2000, # ~memory (MB) required to process a single stack\n",
    "                                objects_csv=['crop_roi_0.csv'])\n",
    "\n",
    "luigi.build([crop_movie_task], local_scheduler=True, log_level='DEBUG')"
   ]
  }
 ],
 "metadata": {
  "kernelspec": {
   "display_name": "Python [conda env:tf2.3]",
   "language": "python",
   "name": "conda-env-tf2.3-py"
  },
  "language_info": {
   "codemirror_mode": {
    "name": "ipython",
    "version": 3
   },
   "file_extension": ".py",
   "mimetype": "text/x-python",
   "name": "python",
   "nbconvert_exporter": "python",
   "pygments_lexer": "ipython3",
   "version": "3.7.9"
  }
 },
 "nbformat": 4,
 "nbformat_minor": 2
}
